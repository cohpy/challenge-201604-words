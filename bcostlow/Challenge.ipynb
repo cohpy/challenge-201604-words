{
 "cells": [
  {
   "cell_type": "code",
   "execution_count": 8,
   "metadata": {
    "collapsed": false
   },
   "outputs": [],
   "source": [
    "def get_text(file_path):\n",
    "    '''Skip preamble'''\n",
    "    past_header = False\n",
    "    with open(file_path) as f:\n",
    "        for line in f:\n",
    "            if past_header:\n",
    "                yield line\n",
    "            else:\n",
    "                if line.startswith('*** START OF THIS PROJECT GUTENBERG'):\n",
    "                    past_header = True"
   ]
  },
  {
   "cell_type": "code",
   "execution_count": 9,
   "metadata": {
    "collapsed": true
   },
   "outputs": [],
   "source": [
    "import string\n",
    "import re\n",
    "def clean_text(lines):\n",
    "    '''Remove all but ASCII alpha and spaces'''\n",
    "    valid_chars = string.ascii_letters + string.whitespace\n",
    "    match = '[^' + valid_chars + ']+'\n",
    "    pattern = re.compile(match)\n",
    "    for line in lines:\n",
    "        yield pattern.sub(\"\", line)"
   ]
  },
  {
   "cell_type": "code",
   "execution_count": 10,
   "metadata": {
    "collapsed": true
   },
   "outputs": [],
   "source": [
    "def break_into_words(lines):\n",
    "    for line in lines:\n",
    "        for word in line.split(' '):\n",
    "            if word: # check for null strings\n",
    "                yield word.lower()"
   ]
  },
  {
   "cell_type": "code",
   "execution_count": 11,
   "metadata": {
    "collapsed": false
   },
   "outputs": [],
   "source": [
    "from collections import Counter\n",
    "cnt = Counter(break_into_words(clean_text(get_text('demo.txt'))))"
   ]
  },
  {
   "cell_type": "code",
   "execution_count": 12,
   "metadata": {
    "collapsed": false
   },
   "outputs": [
    {
     "data": {
      "text/plain": [
       "[('the', 3894),\n",
       " ('and', 2794),\n",
       " ('i', 2596),\n",
       " ('of', 2537),\n",
       " ('to', 2005),\n",
       " ('my', 1574),\n",
       " ('a', 1301),\n",
       " ('in', 1083),\n",
       " ('that', 973),\n",
       " ('was', 948)]"
      ]
     },
     "execution_count": 12,
     "metadata": {},
     "output_type": "execute_result"
    }
   ],
   "source": [
    "cnt.most_common(10)"
   ]
  },
  {
   "cell_type": "code",
   "execution_count": 13,
   "metadata": {
    "collapsed": false
   },
   "outputs": [],
   "source": [
    "def push_counter(counter):\n",
    "    while True:\n",
    "        value = yield\n",
    "        counter.update([value])\n",
    "\n",
    "def count_words_and_letters(file_name):\n",
    "    word_count = Counter()\n",
    "    letter_count = Counter()\n",
    "    \n",
    "    word_counter = push_counter(word_count)\n",
    "    letter_counter = push_counter(letter_count)\n",
    "    next(word_counter)\n",
    "    next(letter_counter)\n",
    "    \n",
    "    for word in break_into_words(clean_text(get_text(file_name))):\n",
    "        try:\n",
    "            word_counter.send(word)\n",
    "        except StopIteration:\n",
    "            pass\n",
    "        for letter in word:\n",
    "            try:\n",
    "                letter_counter.send(letter)\n",
    "            except StopIteration:\n",
    "                pass\n",
    "    return word_count,letter_count\n",
    "\n",
    "wc,lc = count_words_and_letters('demo.txt')"
   ]
  },
  {
   "cell_type": "code",
   "execution_count": 14,
   "metadata": {
    "collapsed": false
   },
   "outputs": [
    {
     "data": {
      "text/plain": [
       "[('the', 3894),\n",
       " ('and', 2794),\n",
       " ('i', 2596),\n",
       " ('of', 2537),\n",
       " ('to', 2005),\n",
       " ('my', 1574),\n",
       " ('a', 1301),\n",
       " ('in', 1083),\n",
       " ('that', 973),\n",
       " ('was', 948)]"
      ]
     },
     "execution_count": 14,
     "metadata": {},
     "output_type": "execute_result"
    }
   ],
   "source": [
    "wc.most_common(10)"
   ]
  },
  {
   "cell_type": "code",
   "execution_count": 16,
   "metadata": {
    "collapsed": false
   },
   "outputs": [
    {
     "data": {
      "text/plain": [
       "[('e', 45984),\n",
       " ('t', 30322),\n",
       " ('a', 26720),\n",
       " ('o', 25188),\n",
       " ('i', 24591),\n",
       " ('n', 24333),\n",
       " ('s', 21130),\n",
       " ('r', 20788),\n",
       " ('h', 19709),\n",
       " ('d', 16855),\n",
       " ('l', 12723),\n",
       " ('m', 10597),\n",
       " ('u', 10394),\n",
       " ('c', 9233),\n",
       " ('f', 8722),\n",
       " ('y', 7903),\n",
       " ('\\n', 7634),\n",
       " ('w', 7626),\n",
       " ('p', 6116),\n",
       " ('g', 5960)]"
      ]
     },
     "execution_count": 16,
     "metadata": {},
     "output_type": "execute_result"
    }
   ],
   "source": [
    "lc.most_common(20)"
   ]
  },
  {
   "cell_type": "code",
   "execution_count": null,
   "metadata": {
    "collapsed": true
   },
   "outputs": [],
   "source": []
  }
 ],
 "metadata": {
  "kernelspec": {
   "display_name": "Python 3",
   "language": "python",
   "name": "python3"
  },
  "language_info": {
   "codemirror_mode": {
    "name": "ipython",
    "version": 3
   },
   "file_extension": ".py",
   "mimetype": "text/x-python",
   "name": "python",
   "nbconvert_exporter": "python",
   "pygments_lexer": "ipython3",
   "version": "3.5.1"
  }
 },
 "nbformat": 4,
 "nbformat_minor": 0
}
